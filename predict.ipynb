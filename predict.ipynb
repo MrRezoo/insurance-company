{
 "cells": [
  {
   "cell_type": "code",
   "execution_count": 1,
   "metadata": {
    "collapsed": true
   },
   "outputs": [],
   "source": [
    "import pickle\n",
    "\n",
    "model = pickle.load(open('model/catboost_regression.model', 'rb'))"
   ]
  },
  {
   "cell_type": "code",
   "execution_count": 2,
   "outputs": [
    {
     "data": {
      "text/plain": "<catboost.core.CatBoostRegressor at 0x1106e2a30>"
     },
     "execution_count": 2,
     "metadata": {},
     "output_type": "execute_result"
    }
   ],
   "source": [
    "model\n"
   ],
   "metadata": {
    "collapsed": false,
    "pycharm": {
     "name": "#%%\n"
    }
   }
  },
  {
   "cell_type": "code",
   "execution_count": 6,
   "outputs": [
    {
     "data": {
      "text/plain": "   id cat1 cat2 cat3 cat4 cat5 cat6 cat7 cat8 cat9  ...     cont5     cont6  \\\n0   4    A    B    A    A    A    A    A    A    B  ...  0.281143  0.466591   \n1   6    A    B    A    B    A    A    A    A    B  ...  0.836443  0.482425   \n2   9    A    B    A    B    B    A    B    A    B  ...  0.718531  0.212308   \n3  12    A    A    A    A    B    A    A    A    A  ...  0.397069  0.369930   \n4  15    B    A    A    A    A    B    A    A    A  ...  0.302678  0.398862   \n\n      cont7    cont8    cont9   cont10    cont11    cont12    cont13    cont14  \n0  0.317681  0.61229  0.34365  0.38016  0.377724  0.369858  0.704052  0.392562  \n1  0.443760  0.71330  0.51890  0.60401  0.689039  0.675759  0.453468  0.208045  \n2  0.325779  0.29758  0.34365  0.30529  0.245410  0.241676  0.258586  0.297232  \n3  0.342355  0.40028  0.33237  0.31480  0.348867  0.341872  0.592264  0.555955  \n4  0.391833  0.23688  0.43731  0.50556  0.359572  0.352251  0.301535  0.825823  \n\n[5 rows x 131 columns]",
      "text/html": "<div>\n<style scoped>\n    .dataframe tbody tr th:only-of-type {\n        vertical-align: middle;\n    }\n\n    .dataframe tbody tr th {\n        vertical-align: top;\n    }\n\n    .dataframe thead th {\n        text-align: right;\n    }\n</style>\n<table border=\"1\" class=\"dataframe\">\n  <thead>\n    <tr style=\"text-align: right;\">\n      <th></th>\n      <th>id</th>\n      <th>cat1</th>\n      <th>cat2</th>\n      <th>cat3</th>\n      <th>cat4</th>\n      <th>cat5</th>\n      <th>cat6</th>\n      <th>cat7</th>\n      <th>cat8</th>\n      <th>cat9</th>\n      <th>...</th>\n      <th>cont5</th>\n      <th>cont6</th>\n      <th>cont7</th>\n      <th>cont8</th>\n      <th>cont9</th>\n      <th>cont10</th>\n      <th>cont11</th>\n      <th>cont12</th>\n      <th>cont13</th>\n      <th>cont14</th>\n    </tr>\n  </thead>\n  <tbody>\n    <tr>\n      <th>0</th>\n      <td>4</td>\n      <td>A</td>\n      <td>B</td>\n      <td>A</td>\n      <td>A</td>\n      <td>A</td>\n      <td>A</td>\n      <td>A</td>\n      <td>A</td>\n      <td>B</td>\n      <td>...</td>\n      <td>0.281143</td>\n      <td>0.466591</td>\n      <td>0.317681</td>\n      <td>0.61229</td>\n      <td>0.34365</td>\n      <td>0.38016</td>\n      <td>0.377724</td>\n      <td>0.369858</td>\n      <td>0.704052</td>\n      <td>0.392562</td>\n    </tr>\n    <tr>\n      <th>1</th>\n      <td>6</td>\n      <td>A</td>\n      <td>B</td>\n      <td>A</td>\n      <td>B</td>\n      <td>A</td>\n      <td>A</td>\n      <td>A</td>\n      <td>A</td>\n      <td>B</td>\n      <td>...</td>\n      <td>0.836443</td>\n      <td>0.482425</td>\n      <td>0.443760</td>\n      <td>0.71330</td>\n      <td>0.51890</td>\n      <td>0.60401</td>\n      <td>0.689039</td>\n      <td>0.675759</td>\n      <td>0.453468</td>\n      <td>0.208045</td>\n    </tr>\n    <tr>\n      <th>2</th>\n      <td>9</td>\n      <td>A</td>\n      <td>B</td>\n      <td>A</td>\n      <td>B</td>\n      <td>B</td>\n      <td>A</td>\n      <td>B</td>\n      <td>A</td>\n      <td>B</td>\n      <td>...</td>\n      <td>0.718531</td>\n      <td>0.212308</td>\n      <td>0.325779</td>\n      <td>0.29758</td>\n      <td>0.34365</td>\n      <td>0.30529</td>\n      <td>0.245410</td>\n      <td>0.241676</td>\n      <td>0.258586</td>\n      <td>0.297232</td>\n    </tr>\n    <tr>\n      <th>3</th>\n      <td>12</td>\n      <td>A</td>\n      <td>A</td>\n      <td>A</td>\n      <td>A</td>\n      <td>B</td>\n      <td>A</td>\n      <td>A</td>\n      <td>A</td>\n      <td>A</td>\n      <td>...</td>\n      <td>0.397069</td>\n      <td>0.369930</td>\n      <td>0.342355</td>\n      <td>0.40028</td>\n      <td>0.33237</td>\n      <td>0.31480</td>\n      <td>0.348867</td>\n      <td>0.341872</td>\n      <td>0.592264</td>\n      <td>0.555955</td>\n    </tr>\n    <tr>\n      <th>4</th>\n      <td>15</td>\n      <td>B</td>\n      <td>A</td>\n      <td>A</td>\n      <td>A</td>\n      <td>A</td>\n      <td>B</td>\n      <td>A</td>\n      <td>A</td>\n      <td>A</td>\n      <td>...</td>\n      <td>0.302678</td>\n      <td>0.398862</td>\n      <td>0.391833</td>\n      <td>0.23688</td>\n      <td>0.43731</td>\n      <td>0.50556</td>\n      <td>0.359572</td>\n      <td>0.352251</td>\n      <td>0.301535</td>\n      <td>0.825823</td>\n    </tr>\n  </tbody>\n</table>\n<p>5 rows × 131 columns</p>\n</div>"
     },
     "execution_count": 6,
     "metadata": {},
     "output_type": "execute_result"
    }
   ],
   "source": [
    "import pandas as pd\n",
    "\n",
    "data_test = pd.read_csv('data/test.csv')\n",
    "data_test.head()"
   ],
   "metadata": {
    "collapsed": false,
    "pycharm": {
     "name": "#%%\n"
    }
   }
  },
  {
   "cell_type": "code",
   "execution_count": 7,
   "outputs": [],
   "source": [
    "data_test.drop(['id'], axis=1, inplace=True)"
   ],
   "metadata": {
    "collapsed": false,
    "pycharm": {
     "name": "#%%\n"
    }
   }
  },
  {
   "cell_type": "code",
   "execution_count": 12,
   "outputs": [
    {
     "data": {
      "text/plain": "array([7.39222429, 7.59308419, 9.11270893, ..., 7.88790341, 6.77830254,\n       8.2448872 ])"
     },
     "execution_count": 12,
     "metadata": {},
     "output_type": "execute_result"
    }
   ],
   "source": [
    "model.predict(data_test)"
   ],
   "metadata": {
    "collapsed": false,
    "pycharm": {
     "name": "#%%\n"
    }
   }
  },
  {
   "cell_type": "code",
   "execution_count": 14,
   "outputs": [],
   "source": [
    "import numpy as np\n",
    "\n",
    "loss_pred = np.exp(model.predict(data_test))\n",
    "del data_test"
   ],
   "metadata": {
    "collapsed": false,
    "pycharm": {
     "name": "#%%\n"
    }
   }
  },
  {
   "cell_type": "code",
   "execution_count": 15,
   "outputs": [
    {
     "data": {
      "text/plain": "   id cat1 cat2 cat3 cat4 cat5 cat6 cat7 cat8 cat9  ...     cont5     cont6  \\\n0   4    A    B    A    A    A    A    A    A    B  ...  0.281143  0.466591   \n1   6    A    B    A    B    A    A    A    A    B  ...  0.836443  0.482425   \n2   9    A    B    A    B    B    A    B    A    B  ...  0.718531  0.212308   \n3  12    A    A    A    A    B    A    A    A    A  ...  0.397069  0.369930   \n4  15    B    A    A    A    A    B    A    A    A  ...  0.302678  0.398862   \n\n      cont7    cont8    cont9   cont10    cont11    cont12    cont13    cont14  \n0  0.317681  0.61229  0.34365  0.38016  0.377724  0.369858  0.704052  0.392562  \n1  0.443760  0.71330  0.51890  0.60401  0.689039  0.675759  0.453468  0.208045  \n2  0.325779  0.29758  0.34365  0.30529  0.245410  0.241676  0.258586  0.297232  \n3  0.342355  0.40028  0.33237  0.31480  0.348867  0.341872  0.592264  0.555955  \n4  0.391833  0.23688  0.43731  0.50556  0.359572  0.352251  0.301535  0.825823  \n\n[5 rows x 131 columns]",
      "text/html": "<div>\n<style scoped>\n    .dataframe tbody tr th:only-of-type {\n        vertical-align: middle;\n    }\n\n    .dataframe tbody tr th {\n        vertical-align: top;\n    }\n\n    .dataframe thead th {\n        text-align: right;\n    }\n</style>\n<table border=\"1\" class=\"dataframe\">\n  <thead>\n    <tr style=\"text-align: right;\">\n      <th></th>\n      <th>id</th>\n      <th>cat1</th>\n      <th>cat2</th>\n      <th>cat3</th>\n      <th>cat4</th>\n      <th>cat5</th>\n      <th>cat6</th>\n      <th>cat7</th>\n      <th>cat8</th>\n      <th>cat9</th>\n      <th>...</th>\n      <th>cont5</th>\n      <th>cont6</th>\n      <th>cont7</th>\n      <th>cont8</th>\n      <th>cont9</th>\n      <th>cont10</th>\n      <th>cont11</th>\n      <th>cont12</th>\n      <th>cont13</th>\n      <th>cont14</th>\n    </tr>\n  </thead>\n  <tbody>\n    <tr>\n      <th>0</th>\n      <td>4</td>\n      <td>A</td>\n      <td>B</td>\n      <td>A</td>\n      <td>A</td>\n      <td>A</td>\n      <td>A</td>\n      <td>A</td>\n      <td>A</td>\n      <td>B</td>\n      <td>...</td>\n      <td>0.281143</td>\n      <td>0.466591</td>\n      <td>0.317681</td>\n      <td>0.61229</td>\n      <td>0.34365</td>\n      <td>0.38016</td>\n      <td>0.377724</td>\n      <td>0.369858</td>\n      <td>0.704052</td>\n      <td>0.392562</td>\n    </tr>\n    <tr>\n      <th>1</th>\n      <td>6</td>\n      <td>A</td>\n      <td>B</td>\n      <td>A</td>\n      <td>B</td>\n      <td>A</td>\n      <td>A</td>\n      <td>A</td>\n      <td>A</td>\n      <td>B</td>\n      <td>...</td>\n      <td>0.836443</td>\n      <td>0.482425</td>\n      <td>0.443760</td>\n      <td>0.71330</td>\n      <td>0.51890</td>\n      <td>0.60401</td>\n      <td>0.689039</td>\n      <td>0.675759</td>\n      <td>0.453468</td>\n      <td>0.208045</td>\n    </tr>\n    <tr>\n      <th>2</th>\n      <td>9</td>\n      <td>A</td>\n      <td>B</td>\n      <td>A</td>\n      <td>B</td>\n      <td>B</td>\n      <td>A</td>\n      <td>B</td>\n      <td>A</td>\n      <td>B</td>\n      <td>...</td>\n      <td>0.718531</td>\n      <td>0.212308</td>\n      <td>0.325779</td>\n      <td>0.29758</td>\n      <td>0.34365</td>\n      <td>0.30529</td>\n      <td>0.245410</td>\n      <td>0.241676</td>\n      <td>0.258586</td>\n      <td>0.297232</td>\n    </tr>\n    <tr>\n      <th>3</th>\n      <td>12</td>\n      <td>A</td>\n      <td>A</td>\n      <td>A</td>\n      <td>A</td>\n      <td>B</td>\n      <td>A</td>\n      <td>A</td>\n      <td>A</td>\n      <td>A</td>\n      <td>...</td>\n      <td>0.397069</td>\n      <td>0.369930</td>\n      <td>0.342355</td>\n      <td>0.40028</td>\n      <td>0.33237</td>\n      <td>0.31480</td>\n      <td>0.348867</td>\n      <td>0.341872</td>\n      <td>0.592264</td>\n      <td>0.555955</td>\n    </tr>\n    <tr>\n      <th>4</th>\n      <td>15</td>\n      <td>B</td>\n      <td>A</td>\n      <td>A</td>\n      <td>A</td>\n      <td>A</td>\n      <td>B</td>\n      <td>A</td>\n      <td>A</td>\n      <td>A</td>\n      <td>...</td>\n      <td>0.302678</td>\n      <td>0.398862</td>\n      <td>0.391833</td>\n      <td>0.23688</td>\n      <td>0.43731</td>\n      <td>0.50556</td>\n      <td>0.359572</td>\n      <td>0.352251</td>\n      <td>0.301535</td>\n      <td>0.825823</td>\n    </tr>\n  </tbody>\n</table>\n<p>5 rows × 131 columns</p>\n</div>"
     },
     "execution_count": 15,
     "metadata": {},
     "output_type": "execute_result"
    }
   ],
   "source": [
    "data_test = pd.read_csv('data/test.csv')\n",
    "data_test.head()"
   ],
   "metadata": {
    "collapsed": false,
    "pycharm": {
     "name": "#%%\n"
    }
   }
  },
  {
   "cell_type": "code",
   "execution_count": 22,
   "outputs": [
    {
     "data": {
      "text/plain": "            id cat1 cat2 cat3 cat4 cat5 cat6 cat7 cat8 cat9  ...     cont6  \\\n0            4    A    B    A    A    A    A    A    A    B  ...  0.466591   \n1            6    A    B    A    B    A    A    A    A    B  ...  0.482425   \n2            9    A    B    A    B    B    A    B    A    B  ...  0.212308   \n3           12    A    A    A    A    B    A    A    A    A  ...  0.369930   \n4           15    B    A    A    A    A    B    A    A    A  ...  0.398862   \n...        ...  ...  ...  ...  ...  ...  ...  ...  ...  ...  ...       ...   \n125541  587617    A    A    A    B    A    A    A    A    A  ...  0.438917   \n125542  587621    A    A    A    A    B    B    A    B    A  ...  0.346948   \n125543  587627    B    B    A    A    B    A    A    A    B  ...  0.808958   \n125544  587629    A    A    A    A    A    B    A    B    A  ...  0.372125   \n125545  587634    A    B    A    A    A    A    A    A    B  ...  0.221699   \n\n           cont7    cont8    cont9   cont10    cont11    cont12    cont13  \\\n0       0.317681  0.61229  0.34365  0.38016  0.377724  0.369858  0.704052   \n1       0.443760  0.71330  0.51890  0.60401  0.689039  0.675759  0.453468   \n2       0.325779  0.29758  0.34365  0.30529  0.245410  0.241676  0.258586   \n3       0.342355  0.40028  0.33237  0.31480  0.348867  0.341872  0.592264   \n4       0.391833  0.23688  0.43731  0.50556  0.359572  0.352251  0.301535   \n...          ...      ...      ...      ...       ...       ...       ...   \n125541  0.815941  0.39455  0.48740  0.40666  0.550529  0.538473  0.298734   \n125542  0.424968  0.47669  0.25753  0.26894  0.324486  0.352251  0.490001   \n125543  0.511502  0.72299  0.94438  0.83510  0.933174  0.926619  0.848129   \n125544  0.388545  0.31796  0.32128  0.36974  0.307628  0.301921  0.608259   \n125545  0.242044  0.25461  0.31399  0.25183  0.245410  0.241676  0.287682   \n\n          cont14         loss  \n0       0.392562  1623.312813  \n1       0.208045  1984.424436  \n2       0.297232  9069.831144  \n3       0.555955  4954.167663  \n4       0.825823   908.581340  \n...          ...          ...  \n125541  0.345946  2244.935387  \n125542  0.290576  1954.830678  \n125543  0.808125  2664.850972  \n125544  0.361542   878.576113  \n125545  0.220323  3808.105892  \n\n[125546 rows x 132 columns]",
      "text/html": "<div>\n<style scoped>\n    .dataframe tbody tr th:only-of-type {\n        vertical-align: middle;\n    }\n\n    .dataframe tbody tr th {\n        vertical-align: top;\n    }\n\n    .dataframe thead th {\n        text-align: right;\n    }\n</style>\n<table border=\"1\" class=\"dataframe\">\n  <thead>\n    <tr style=\"text-align: right;\">\n      <th></th>\n      <th>id</th>\n      <th>cat1</th>\n      <th>cat2</th>\n      <th>cat3</th>\n      <th>cat4</th>\n      <th>cat5</th>\n      <th>cat6</th>\n      <th>cat7</th>\n      <th>cat8</th>\n      <th>cat9</th>\n      <th>...</th>\n      <th>cont6</th>\n      <th>cont7</th>\n      <th>cont8</th>\n      <th>cont9</th>\n      <th>cont10</th>\n      <th>cont11</th>\n      <th>cont12</th>\n      <th>cont13</th>\n      <th>cont14</th>\n      <th>loss</th>\n    </tr>\n  </thead>\n  <tbody>\n    <tr>\n      <th>0</th>\n      <td>4</td>\n      <td>A</td>\n      <td>B</td>\n      <td>A</td>\n      <td>A</td>\n      <td>A</td>\n      <td>A</td>\n      <td>A</td>\n      <td>A</td>\n      <td>B</td>\n      <td>...</td>\n      <td>0.466591</td>\n      <td>0.317681</td>\n      <td>0.61229</td>\n      <td>0.34365</td>\n      <td>0.38016</td>\n      <td>0.377724</td>\n      <td>0.369858</td>\n      <td>0.704052</td>\n      <td>0.392562</td>\n      <td>1623.312813</td>\n    </tr>\n    <tr>\n      <th>1</th>\n      <td>6</td>\n      <td>A</td>\n      <td>B</td>\n      <td>A</td>\n      <td>B</td>\n      <td>A</td>\n      <td>A</td>\n      <td>A</td>\n      <td>A</td>\n      <td>B</td>\n      <td>...</td>\n      <td>0.482425</td>\n      <td>0.443760</td>\n      <td>0.71330</td>\n      <td>0.51890</td>\n      <td>0.60401</td>\n      <td>0.689039</td>\n      <td>0.675759</td>\n      <td>0.453468</td>\n      <td>0.208045</td>\n      <td>1984.424436</td>\n    </tr>\n    <tr>\n      <th>2</th>\n      <td>9</td>\n      <td>A</td>\n      <td>B</td>\n      <td>A</td>\n      <td>B</td>\n      <td>B</td>\n      <td>A</td>\n      <td>B</td>\n      <td>A</td>\n      <td>B</td>\n      <td>...</td>\n      <td>0.212308</td>\n      <td>0.325779</td>\n      <td>0.29758</td>\n      <td>0.34365</td>\n      <td>0.30529</td>\n      <td>0.245410</td>\n      <td>0.241676</td>\n      <td>0.258586</td>\n      <td>0.297232</td>\n      <td>9069.831144</td>\n    </tr>\n    <tr>\n      <th>3</th>\n      <td>12</td>\n      <td>A</td>\n      <td>A</td>\n      <td>A</td>\n      <td>A</td>\n      <td>B</td>\n      <td>A</td>\n      <td>A</td>\n      <td>A</td>\n      <td>A</td>\n      <td>...</td>\n      <td>0.369930</td>\n      <td>0.342355</td>\n      <td>0.40028</td>\n      <td>0.33237</td>\n      <td>0.31480</td>\n      <td>0.348867</td>\n      <td>0.341872</td>\n      <td>0.592264</td>\n      <td>0.555955</td>\n      <td>4954.167663</td>\n    </tr>\n    <tr>\n      <th>4</th>\n      <td>15</td>\n      <td>B</td>\n      <td>A</td>\n      <td>A</td>\n      <td>A</td>\n      <td>A</td>\n      <td>B</td>\n      <td>A</td>\n      <td>A</td>\n      <td>A</td>\n      <td>...</td>\n      <td>0.398862</td>\n      <td>0.391833</td>\n      <td>0.23688</td>\n      <td>0.43731</td>\n      <td>0.50556</td>\n      <td>0.359572</td>\n      <td>0.352251</td>\n      <td>0.301535</td>\n      <td>0.825823</td>\n      <td>908.581340</td>\n    </tr>\n    <tr>\n      <th>...</th>\n      <td>...</td>\n      <td>...</td>\n      <td>...</td>\n      <td>...</td>\n      <td>...</td>\n      <td>...</td>\n      <td>...</td>\n      <td>...</td>\n      <td>...</td>\n      <td>...</td>\n      <td>...</td>\n      <td>...</td>\n      <td>...</td>\n      <td>...</td>\n      <td>...</td>\n      <td>...</td>\n      <td>...</td>\n      <td>...</td>\n      <td>...</td>\n      <td>...</td>\n      <td>...</td>\n    </tr>\n    <tr>\n      <th>125541</th>\n      <td>587617</td>\n      <td>A</td>\n      <td>A</td>\n      <td>A</td>\n      <td>B</td>\n      <td>A</td>\n      <td>A</td>\n      <td>A</td>\n      <td>A</td>\n      <td>A</td>\n      <td>...</td>\n      <td>0.438917</td>\n      <td>0.815941</td>\n      <td>0.39455</td>\n      <td>0.48740</td>\n      <td>0.40666</td>\n      <td>0.550529</td>\n      <td>0.538473</td>\n      <td>0.298734</td>\n      <td>0.345946</td>\n      <td>2244.935387</td>\n    </tr>\n    <tr>\n      <th>125542</th>\n      <td>587621</td>\n      <td>A</td>\n      <td>A</td>\n      <td>A</td>\n      <td>A</td>\n      <td>B</td>\n      <td>B</td>\n      <td>A</td>\n      <td>B</td>\n      <td>A</td>\n      <td>...</td>\n      <td>0.346948</td>\n      <td>0.424968</td>\n      <td>0.47669</td>\n      <td>0.25753</td>\n      <td>0.26894</td>\n      <td>0.324486</td>\n      <td>0.352251</td>\n      <td>0.490001</td>\n      <td>0.290576</td>\n      <td>1954.830678</td>\n    </tr>\n    <tr>\n      <th>125543</th>\n      <td>587627</td>\n      <td>B</td>\n      <td>B</td>\n      <td>A</td>\n      <td>A</td>\n      <td>B</td>\n      <td>A</td>\n      <td>A</td>\n      <td>A</td>\n      <td>B</td>\n      <td>...</td>\n      <td>0.808958</td>\n      <td>0.511502</td>\n      <td>0.72299</td>\n      <td>0.94438</td>\n      <td>0.83510</td>\n      <td>0.933174</td>\n      <td>0.926619</td>\n      <td>0.848129</td>\n      <td>0.808125</td>\n      <td>2664.850972</td>\n    </tr>\n    <tr>\n      <th>125544</th>\n      <td>587629</td>\n      <td>A</td>\n      <td>A</td>\n      <td>A</td>\n      <td>A</td>\n      <td>A</td>\n      <td>B</td>\n      <td>A</td>\n      <td>B</td>\n      <td>A</td>\n      <td>...</td>\n      <td>0.372125</td>\n      <td>0.388545</td>\n      <td>0.31796</td>\n      <td>0.32128</td>\n      <td>0.36974</td>\n      <td>0.307628</td>\n      <td>0.301921</td>\n      <td>0.608259</td>\n      <td>0.361542</td>\n      <td>878.576113</td>\n    </tr>\n    <tr>\n      <th>125545</th>\n      <td>587634</td>\n      <td>A</td>\n      <td>B</td>\n      <td>A</td>\n      <td>A</td>\n      <td>A</td>\n      <td>A</td>\n      <td>A</td>\n      <td>A</td>\n      <td>B</td>\n      <td>...</td>\n      <td>0.221699</td>\n      <td>0.242044</td>\n      <td>0.25461</td>\n      <td>0.31399</td>\n      <td>0.25183</td>\n      <td>0.245410</td>\n      <td>0.241676</td>\n      <td>0.287682</td>\n      <td>0.220323</td>\n      <td>3808.105892</td>\n    </tr>\n  </tbody>\n</table>\n<p>125546 rows × 132 columns</p>\n</div>"
     },
     "execution_count": 22,
     "metadata": {},
     "output_type": "execute_result"
    }
   ],
   "source": [
    "data_test['loss'] = loss_pred\n",
    "data_test"
   ],
   "metadata": {
    "collapsed": false,
    "pycharm": {
     "name": "#%%\n"
    }
   }
  },
  {
   "cell_type": "code",
   "execution_count": null,
   "outputs": [],
   "source": [
    "data_test.to_excel('prediction_loss001.xlsx', index='id')\n"
   ],
   "metadata": {
    "collapsed": false,
    "pycharm": {
     "name": "#%%\n",
     "is_executing": true
    }
   }
  }
 ],
 "metadata": {
  "kernelspec": {
   "display_name": "Python 3",
   "language": "python",
   "name": "python3"
  },
  "language_info": {
   "codemirror_mode": {
    "name": "ipython",
    "version": 2
   },
   "file_extension": ".py",
   "mimetype": "text/x-python",
   "name": "python",
   "nbconvert_exporter": "python",
   "pygments_lexer": "ipython2",
   "version": "2.7.6"
  }
 },
 "nbformat": 4,
 "nbformat_minor": 0
}